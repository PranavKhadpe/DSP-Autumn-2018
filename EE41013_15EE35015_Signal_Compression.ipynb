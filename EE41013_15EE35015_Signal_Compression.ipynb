{
 "cells": [
  {
   "cell_type": "code",
   "execution_count": 1,
   "metadata": {},
   "outputs": [],
   "source": [
    "import matplotlib.pyplot as plt\n",
    "import math\n",
    "import numpy as np\n",
    "import cmath\n",
    "from numpy import *\n",
    "from numpy.linalg import inv\n",
    "from scipy.fftpack import fft, ifft, dct, idct\n",
    "from scipy.io import wavfile\n",
    "from IPython.display import Audio"
   ]
  },
  {
   "cell_type": "markdown",
   "metadata": {},
   "source": [
    "### Reading the wav file"
   ]
  },
  {
   "cell_type": "code",
   "execution_count": 2,
   "metadata": {},
   "outputs": [
    {
     "name": "stdout",
     "output_type": "stream",
     "text": [
      "Audio Type: int16\n",
      "Samples = 22073   Channels = 2\n",
      "Sampling frequency = 44100 Hz\n",
      "Audio length: 501 mili-seconds\n"
     ]
    },
    {
     "data": {
      "text/plain": [
       "Text(0,0.5,'Amplitude')"
      ]
     },
     "execution_count": 2,
     "metadata": {},
     "output_type": "execute_result"
    },
    {
     "data": {
      "image/png": "[encoded data removed]",
      "text/plain": [
       "<Figure size 432x288 with 1 Axes>"
      ]
     },
     "metadata": {
      "needs_background": "light"
     },
     "output_type": "display_data"
    }
   ],
   "source": [
    "fs, audio = wavfile.read('audio.wav')\n",
    "Audio('audio.wav')\n",
    "print(f\"Audio Type: {audio.dtype}\")\n",
    "print(f\"Samples = {audio.shape[0]}   Channels = {audio.shape[1]}\")\n",
    "print(f\"Sampling frequency = {fs} Hz\")\n",
    "\n",
    "audio = audio.T[0]\n",
    "samples = audio.shape[0]\n",
    "L = (samples / fs)*1000\n",
    "print(f'Audio length: {L:.0f} mili-seconds')\n",
    "\n",
    "f, ax = plt.subplots()\n",
    "ax.plot((np.arange(samples) / fs)*1000, audio)\n",
    "ax.set_xlabel('Time [ms]')\n",
    "ax.set_ylabel('Amplitude')"
   ]
  },
  {
   "cell_type": "markdown",
   "metadata": {},
   "source": [
    "### Defining the Haar Transform and the Errors"
   ]
  },
  {
   "cell_type": "code",
   "execution_count": 3,
   "metadata": {},
   "outputs": [],
   "source": [
    "h2 = np.array([[1,1],[1,-1]])\n",
    "def haar_mat(n):\n",
    "    n = int(n)\n",
    "    if n == 1:\n",
    "        return h2\n",
    "    else:\n",
    "        a = np.kron(haar_mat(n-1),[1,1])\n",
    "        b = np.kron(np.identity(int(math.pow(2,n-1)))*math.pow(2,(n-1)/2.0),[1,-1])\n",
    "        #print(np.concatenate((a,b),axis=0))\n",
    "        return np.concatenate((a,b),axis=0)\n",
    "\n",
    "def haar(x):\n",
    "    return np.matmul(haar_mat(math.log(len(x),2)),np.transpose(x))\n",
    "\n",
    "def ihaar(y): #calculating inverse haar for x\n",
    "    n = int(math.log(len(y),2))\n",
    "    N = len(y)\n",
    "    hn = haar_mat(n)\n",
    "    return np.matmul(np.transpose(hn)/N,np.transpose(y))\n",
    "\n",
    "def Ehaar(x,y,L): #calculating error for haar transform\n",
    "    N = len(y)\n",
    "    for i in range(N-L,N):\n",
    "        y[i] = 0\n",
    "    x_m = ihaar(y)\n",
    "    return ((x - x_m) ** 2).mean(axis=0)\n",
    "\n",
    "def Edft(x,y,L): #calculating error dft for x\n",
    "    N = len(y)\n",
    "    a = int((N+1-L)/2)\n",
    "    b = int((N-1+L)/2)\n",
    "    for i in range(a,b+1):\n",
    "        y[i] = 0\n",
    "    x_m = ifft(y)\n",
    "    return ((x - x_m)**2).mean(axis=0)\n",
    "\n",
    "def Edct(x,y,L): #calculating error dct for x\n",
    "    N = len(y)\n",
    "    for i in range(N-L,N):\n",
    "        y[i] = 0\n",
    "    x_m = idct(y)/(2*len(x))\n",
    "    return ((x - x_m) ** 2).mean(axis=0)"
   ]
  },
  {
   "cell_type": "code",
   "execution_count": 4,
   "metadata": {},
   "outputs": [],
   "source": [
    "audio = audio[0:5292]\n",
    "error_dft = [0.]*len(audio)\n",
    "error_dct = [0.]*len(audio)\n",
    "error_haar = [0.]*len(audio)\n",
    "y_dft = fft(audio)\n",
    "y_dct = dct(audio)\n",
    "y_haar = haar(audio[0:4096])\n",
    "for L in range(len(audio)):\n",
    "    error_dft[L] = Edft(audio,y_dft,L)\n",
    "    error_dct[L] = Edct(audio,y_dct,L)\n",
    "    error_haar[L] = Ehaar(audio[0:4096],y_haar,L)"
   ]
  },
  {
   "cell_type": "markdown",
   "metadata": {},
   "source": [
    "### Comparison of Errors"
   ]
  },
  {
   "cell_type": "code",
   "execution_count": 6,
   "metadata": {},
   "outputs": [
    {
     "name": "stderr",
     "output_type": "stream",
     "text": [
      "/home/pranavkhadpe/anaconda3/lib/python3.7/site-packages/numpy/core/numeric.py:501: ComplexWarning: Casting complex values to real discards the imaginary part\n",
      "  return array(a, dtype, copy=False, order=order)\n"
     ]
    },
    {
     "data": {
      "image/png": "[encoded data removed]",
      "text/plain": [
       "<Figure size 432x288 with 1 Axes>"
      ]
     },
     "metadata": {
      "needs_background": "light"
     },
     "output_type": "display_data"
    }
   ],
   "source": [
    "fig, ax = plt.subplots()\n",
    "ax.plot(error_dft, 'r:', label='DFT') \n",
    "ax.plot(error_dct,'b--', label = 'DCT') \n",
    "ax.plot(error_haar, 'g', label='HAAR')\n",
    "ax.grid()\n",
    "legend = ax.legend(loc='lower right', fontsize='x-large')\n",
    "legend.get_frame().set_facecolor('C0')"
   ]
  },
  {
   "cell_type": "code",
   "execution_count": null,
   "metadata": {},
   "outputs": [],
   "source": []
  }
 ],
 "metadata": {
  "kernelspec": {
   "display_name": "Python 3",
   "language": "python",
   "name": "python3"
  },
  "language_info": {
   "codemirror_mode": {
    "name": "ipython",
    "version": 3
   },
   "file_extension": ".py",
   "mimetype": "text/x-python",
   "name": "python",
   "nbconvert_exporter": "python",
   "pygments_lexer": "ipython3",
   "version": "3.7.0"
  }
 },
 "nbformat": 4,
 "nbformat_minor": 2
}
